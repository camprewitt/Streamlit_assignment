{
  "nbformat": 4,
  "nbformat_minor": 0,
  "metadata": {
    "colab": {
      "provenance": [],
      "authorship_tag": "ABX9TyMjCrsQRIxPlDitZ03MfmI+",
      "include_colab_link": true
    },
    "kernelspec": {
      "name": "python3",
      "display_name": "Python 3"
    },
    "language_info": {
      "name": "python"
    }
  },
  "cells": [
    {
      "cell_type": "markdown",
      "metadata": {
        "id": "view-in-github",
        "colab_type": "text"
      },
      "source": [
        "<a href=\"https://colab.research.google.com/github/camprewitt/Streamlit_assignment/blob/main/Untitled2.ipynb\" target=\"_parent\"><img src=\"https://colab.research.google.com/assets/colab-badge.svg\" alt=\"Open In Colab\"/></a>"
      ]
    },
    {
      "cell_type": "code",
      "execution_count": 2,
      "metadata": {
        "colab": {
          "base_uri": "https://localhost:8080/"
        },
        "id": "6A7qG1ve3zfY",
        "outputId": "5877b479-a5ed-4782-9059-7a04f23d40d3"
      },
      "outputs": [
        {
          "output_type": "stream",
          "name": "stdout",
          "text": [
            "Achievements of LeBron James:\n",
            "Championships: 4\n",
            "MVPs: 4\n",
            "All-Star Appearances: 19\n",
            "Scoring Titles: 1\n",
            "Finals MVPs: 4\n",
            "Defensive Player of the Year: 0\n",
            "-----------------------------\n",
            "Achievements of Michael Jordan:\n",
            "Championships: 6\n",
            "MVPs: 5\n",
            "All-Star Appearances: 14\n",
            "Scoring Titles: 10\n",
            "Finals MVPs: 6\n",
            "Defensive Player of the Year: 1\n",
            "-----------------------------\n",
            "Comparing achievements of LeBron James and Michael Jordan:\n",
            "\n",
            "Championships: LeBron James - 4 | Michael Jordan - 6\n",
            "MVPs: LeBron James - 4 | Michael Jordan - 5\n",
            "All-Star Appearances: LeBron James - 19 | Michael Jordan - 14\n",
            "Scoring Titles: LeBron James - 1 | Michael Jordan - 10\n",
            "Finals MVPs: LeBron James - 4 | Michael Jordan - 6\n",
            "Defensive Player of the Year: LeBron James - 0 | Michael Jordan - 1\n",
            "-----------------------------\n"
          ]
        }
      ],
      "source": [
        "class Player:\n",
        "    def __init__(self, name, championships, mvps, all_star_appearances, scoring_titles, finals_mvps, defensive_player_of_the_year):\n",
        "        self.name = name\n",
        "        self.championships = championships\n",
        "        self.mvps = mvps\n",
        "        self.all_star_appearances = all_star_appearances\n",
        "        self.scoring_titles = scoring_titles\n",
        "        self.finals_mvps = finals_mvps\n",
        "        self.defensive_player_of_the_year = defensive_player_of_the_year\n",
        "\n",
        "    def display_achievements(self):\n",
        "        print(f\"Achievements of {self.name}:\")\n",
        "        print(f\"Championships: {self.championships}\")\n",
        "        print(f\"MVPs: {self.mvps}\")\n",
        "        print(f\"All-Star Appearances: {self.all_star_appearances}\")\n",
        "        print(f\"Scoring Titles: {self.scoring_titles}\")\n",
        "        print(f\"Finals MVPs: {self.finals_mvps}\")\n",
        "        print(f\"Defensive Player of the Year: {self.defensive_player_of_the_year}\")\n",
        "        print(\"-----------------------------\")\n",
        "\n",
        "\n",
        "def compare_achievements(player1, player2):\n",
        "    print(f\"Comparing achievements of {player1.name} and {player2.name}:\\n\")\n",
        "\n",
        "    print(f\"Championships: {player1.name} - {player1.championships} | {player2.name} - {player2.championships}\")\n",
        "    print(f\"MVPs: {player1.name} - {player1.mvps} | {player2.name} - {player2.mvps}\")\n",
        "    print(f\"All-Star Appearances: {player1.name} - {player1.all_star_appearances} | {player2.name} - {player2.all_star_appearances}\")\n",
        "    print(f\"Scoring Titles: {player1.name} - {player1.scoring_titles} | {player2.name} - {player2.scoring_titles}\")\n",
        "    print(f\"Finals MVPs: {player1.name} - {player1.finals_mvps} | {player2.name} - {player2.finals_mvps}\")\n",
        "    print(f\"Defensive Player of the Year: {player1.name} - {player1.defensive_player_of_the_year} | {player2.name} - {player2.defensive_player_of_the_year}\")\n",
        "    print(\"-----------------------------\")\n",
        "\n",
        "\n",
        "# LeBron James' achievements\n",
        "lebron = Player(\n",
        "    name=\"LeBron James\",\n",
        "    championships=4,\n",
        "    mvps=4,\n",
        "    all_star_appearances=19,\n",
        "    scoring_titles=1,\n",
        "    finals_mvps=4,\n",
        "    defensive_player_of_the_year=0\n",
        ")\n",
        "\n",
        "# Michael Jordan's achievements\n",
        "jordan = Player(\n",
        "    name=\"Michael Jordan\",\n",
        "    championships=6,\n",
        "    mvps=5,\n",
        "    all_star_appearances=14,\n",
        "    scoring_titles=10,\n",
        "    finals_mvps=6,\n",
        "    defensive_player_of_the_year=1\n",
        ")\n",
        "\n",
        "# Display achievements for both players\n",
        "lebron.display_achievements()\n",
        "jordan.display_achievements()\n",
        "\n",
        "# Compare their achievements\n",
        "compare_achievements(lebron, jordan)"
      ]
    }
  ]
}